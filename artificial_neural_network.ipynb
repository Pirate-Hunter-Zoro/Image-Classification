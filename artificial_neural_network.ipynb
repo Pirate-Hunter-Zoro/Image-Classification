{
 "cells": [
  {
   "cell_type": "markdown",
   "metadata": {},
   "source": [
    "### First we will read in data as images."
   ]
  },
  {
   "cell_type": "code",
   "execution_count": 2,
   "metadata": {},
   "outputs": [
    {
     "name": "stdout",
     "output_type": "stream",
     "text": [
      "Train Population Size: 600\n",
      "Test Population Size: 100\n"
     ]
    },
    {
     "data": {
      "image/png": "[encoded data removed]",
      "text/plain": [
       "<Figure size 640x480 with 1 Axes>"
      ]
     },
     "metadata": {},
     "output_type": "display_data"
    },
    {
     "name": "stdout",
     "output_type": "stream",
     "text": [
      "<class 'numpy.ndarray'>\n",
      "(1, 28, 28)\n",
      "Class: 0\n"
     ]
    }
   ],
   "source": [
    "# The following line was necessary to import the MNIST images.\n",
    "# Source: https://stackoverflow.com/questions/78668638/unable-to-load-mnist-data-set-due-to-ssl-error-in-keras-load-data-function\n",
    "import ssl \n",
    "ssl._create_default_https_context = ssl._create_unverified_context\n",
    "\n",
    "# Libraries to include data and reading it in as images and arrays\n",
    "import torchvision.datasets as dsets\n",
    "import torchvision.transforms as transforms\n",
    "import matplotlib.pyplot as plt\n",
    "import random\n",
    "\n",
    "# Load MNIST dataset as images\n",
    "train_dataset_as_images = dsets.MNIST(root='./data', train=True, download=True, transform=None)\n",
    "test_dataset_as_images = dsets.MNIST(root='./data', train=False, download=True, transform=None)\n",
    "\n",
    "# Load the MNIST dataset as arrays\n",
    "train_dataset_as_arrays = dsets.MNIST(root='./data', train=True, download=True, transform=transforms.ToTensor())\n",
    "train_dataset_as_arrays = [(t.numpy(), c) for t,c in train_dataset_as_arrays]\n",
    "test_dataset_as_arrays = dsets.MNIST(root='./data', train=False, download=True, transform=transforms.ToTensor())\n",
    "test_dataset_as_arrays = [(t.numpy(), c) for t,c in test_dataset_as_arrays]\n",
    "\n",
    "# The population is way too big for this notebook to handle in a reasonable amount of time - we'll scale down\n",
    "train_indices = range(len(train_dataset_as_arrays))\n",
    "train_sample_indices = random.sample(population=train_indices, k=int(0.01*len(train_indices)))\n",
    "test_indicies = range(len(test_dataset_as_arrays))\n",
    "test_sample_indices = random.sample(population=test_indicies, k=int(0.01*len(test_indicies)))\n",
    "train_dataset_as_arrays = [train_dataset_as_arrays[i] for i in train_sample_indices]\n",
    "test_dataset_as_arrays = [test_dataset_as_arrays[i] for i in test_sample_indices]\n",
    "print(f\"Train Population Size: {len(train_dataset_as_arrays)}\")\n",
    "print(f\"Test Population Size: {len(test_dataset_as_arrays)}\")\n",
    "\n",
    "# Display the first sample image\n",
    "first_image, first_label = train_dataset_as_images[0]\n",
    "plt.imshow(first_image, cmap='gray')\n",
    "plt.title(f\"Label: {first_label}\")\n",
    "plt.show()\n",
    "\n",
    "# Display said image as an array\n",
    "first_image_array, first_label = train_dataset_as_arrays[0]\n",
    "print(type(first_image_array))\n",
    "print(first_image_array.shape)\n",
    "print(f\"Class: {first_label}\")"
   ]
  },
  {
   "cell_type": "markdown",
   "metadata": {},
   "source": [
    "### We need to create a neural network - at heart a list of matrices. We will then use perceptrons - each perceptron will know to reference a certain row of a certain matrix - for book keeping when updating the weights of the network."
   ]
  },
  {
   "cell_type": "code",
   "execution_count": null,
   "metadata": {},
   "outputs": [],
   "source": [
    "from math import exp\n",
    "import numpy as np\n",
    "\n",
    "class ANN:\n",
    "    \n",
    "    def __init__(self, input_dim: int, layer_dims: list[int], initialization_constant: int=1, lr: float=0.01):\n",
    "        \"\"\"Create an artificial neural network which is defined by the number of layers and the number of neurons per layer\n",
    "\n",
    "        Args:\n",
    "            layer_dims (list[int]): number of neurons per each respective layer\n",
    "            num_classifications (int): number of different classes each input could belong to (i.e. for handwritten digits, this will be 10 --> representing 0-9)\n",
    "            initialization_constant (int, optional): upper bound for maximum value of randomly initialized weights. Defaults to 1.\n",
    "            lr (float, optional): scalar used when performing gradient descent. Defaults to 0.01.\n",
    "        \"\"\"\n",
    "        weight_matrices = [-initialization_constant + 2*initialization_constant*np.random.randn(input_dim, layer_dims[0])] + [-initialization_constant + 2*initialization_constant*np.random.randn(prev_dim, next_dim) for prev_dim, next_dim in zip(layer_dims, layer_dims[1:])]\n",
    "        linear_output_vectors = [np.zeros([1, n]) for n in layer_dims]\n",
    "        activation_output_vectors = [np.zeros([1,n]) for n in layer_dims]\n",
    "        self.__network_elements = None\n",
    "        self.__merge_network_elements(weights=weight_matrices, linear_outputs=linear_output_vectors, activation_outputs=activation_output_vectors)\n",
    "        \n",
    "        self.__derivatives = [np.zeros([prev_dim, next_dim]) for prev_dim, next_dim in zip(layer_dims, layer_dims[1:])]\n",
    "        # dL/dW_0, dL/dz_0, dL/da_0, dL/dW_1, dL/dz_1, dL/da_1, ..., etc.\n",
    "        self.__learning_rate = lr\n",
    "    \n",
    "    def __merge_network_elements(self, weights: list[np.ndarray], linear_outputs: list[np.ndarray], activation_outputs: list[np.ndarray]):\n",
    "        \"\"\"Helper method to merge the network elements - including weight matrices, linear output vectors, and activation output vectors into one list\n",
    "\n",
    "        Args:\n",
    "            weights (list[np.ndarray]): weight matrices\n",
    "            linear_outputs (list[np.ndarray]): linear output vectors\n",
    "            activation_outputs (list[np.ndarray]): activation output vectors\n",
    "        \"\"\"\n",
    "        # Merge into a list of [W0, z0, a0, W1, z1, a1, W2, z2, a2, etc...]\n",
    "        i = 0\n",
    "        network_components = [weights, linear_outputs, activation_outputs]\n",
    "        self.__weight_matrices = []\n",
    "        self.__linear_output_vectors = []\n",
    "        self.__activation_output_vectors = []\n",
    "        while any(network_components):\n",
    "            if network_components[i]:\n",
    "                next = network_components[i].pop(0)\n",
    "                if i == 0:\n",
    "                    self.__weight_matrices.append(next)\n",
    "                elif i == 1:\n",
    "                    self.__linear_output_vectors.append(next)\n",
    "                else:\n",
    "                    self.__activation_output_vectors.append(next)\n",
    "                self.__network_elements.append(next)\n",
    "            i = (i + 1) % 3\n",
    "    \n",
    "    def __sigmoid(x):\n",
    "        return 1 / (1 + exp(-x))\n",
    "\n",
    "    __vector_sigmoid_func = np.frompyfunc(__sigmoid, 1, 1)\n",
    "    \n",
    "    def __sigmoid(vector: np.ndarray) -> np.ndarray:\n",
    "        \"\"\"Helper function to apply the sigmoid activation function to a numpy array\n",
    "\n",
    "        Args:\n",
    "            vector (np.ndarray): vector to apply sigmoid on (element-wise)\n",
    "\n",
    "        Returns:\n",
    "            np.ndarray: resulting vector from sigmoid function\n",
    "        \"\"\"\n",
    "        return ANN.__vector_sigmoid_func(vector)\n",
    "\n",
    "    def __calculate_gradients(self, last_input: np.ndarray, last_output: np.ndarray, target_output: np.ndarray):\n",
    "        \"\"\"Given the numerical loss received from a training observation, calculate the gradient of the loss and update each weight accordingly\n",
    "\n",
    "        Args:\n",
    "            last_output (np.ndarray): predicted output for the last input vector\n",
    "            target_output (np.ndarray): expected output for the last input vector (something like [0, 0, 0, 0, 1, 1, 1])\n",
    "        \"\"\"\n",
    "        # We know the immediate gradient for the last layer\n",
    "        self.__derivatives[-1] = 2 * (last_output - target_output) # vector\n",
    "        for i in range(len(self.__derivatives)-1, 0, -1):\n",
    "            if i % 3 == 0:\n",
    "                # weight matrix derivative\n",
    "                activation_output_layer = self.__network_elements[i-1] if i > 0 else last_input\n",
    "                # dL/dW_i_k_j = dL/dz_i_k * dz_i_k/dW_i_k_j = dL/dz_i_k * a_{i-1}_j\n",
    "                # dL/dW_i_k = dL/dz_i_k(a_{i-1})\n",
    "                # dL/dW_i = (dL/dz_i) X (a_{i-1})\n",
    "                dz_i_transpose = self.__derivatives[i+1].T\n",
    "                self.__derivatives[i] = np.matmul(dz_i_transpose, activation_output_layer)\n",
    "            elif i % 3 == 1:\n",
    "                # linear output layer derivative\n",
    "                activation_output_layer = self.__activation_output_vectors[i // 2]\n",
    "                # dL/dz_i = dL/da_i * da_i/dz_i = dL/da_i * a_i * (1-a_i) since the derivative of sigmoid at x is sigmoid(x)(1-sigmoid(x))\n",
    "                self.__derivatives[i] = self.__derivatives[i+1] * activation_output_layer * (np.ones(shape=activation_output_layer.shape) - activation_output_layer)\n",
    "            else:\n",
    "                # activation layer derivative\n",
    "                pass \n",
    "            \n",
    "    def __perform_batch_descent(self, batch: list[np.ndarray], batch_outputs: list[np.ndarray]):\n",
    "        \"\"\"Given a batch of observations, calculate the average gradient and update all weights accordingly\n",
    "\n",
    "        Args:\n",
    "            batch (list[np.ndarray]): list of input vectors\n",
    "        \"\"\"\n",
    "        pass"
   ]
  }
 ],
 "metadata": {
  "kernelspec": {
   "display_name": "python_venv",
   "language": "python",
   "name": "python3"
  },
  "language_info": {
   "codemirror_mode": {
    "name": "ipython",
    "version": 3
   },
   "file_extension": ".py",
   "mimetype": "text/x-python",
   "name": "python",
   "nbconvert_exporter": "python",
   "pygments_lexer": "ipython3",
   "version": "3.10.0"
  }
 },
 "nbformat": 4,
 "nbformat_minor": 2
}
